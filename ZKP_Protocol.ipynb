{
 "cells": [
  {
   "cell_type": "code",
   "execution_count": 7,
   "id": "82679fd5",
   "metadata": {},
   "outputs": [],
   "source": [
    "# has secret x\n",
    "class ZKP_Prover:\n",
    "    def __init__(self, Zq, g, q, N):\n",
    "        self.honest = True\n",
    "        self.g = g\n",
    "        self.k = randint(1, q)\n",
    "        self.x = -99999\n",
    "        \n",
    "    def Commit(self):\n",
    "        return self.g^self.k\n",
    "    def Prove(self, c):\n",
    "        return self.k+c*self.x"
   ]
  },
  {
   "cell_type": "code",
   "execution_count": 8,
   "id": "51523fda",
   "metadata": {},
   "outputs": [],
   "source": [
    "class ZKP_Verifier:\n",
    "    def __init__(self, Zq, g, q, N):\n",
    "        self.g = g\n",
    "        self.c = randint(1,q)\n",
    "    def Challenge(self):\n",
    "        return self.c\n",
    "    def Verify(self, y, r, s):\n",
    "        return (r==(self.g^s)/(y^(self.c)))"
   ]
  },
  {
   "cell_type": "code",
   "execution_count": 9,
   "id": "7183c51f",
   "metadata": {},
   "outputs": [],
   "source": [
    "class ZKP_Protocol:\n",
    "    def __init__(self, bits, seed):\n",
    "        set_random_seed(seed)\n",
    "        current_randstate().set_seed_gp()\n",
    "        \n",
    "        N = 2^bits\n",
    "        q = random_prime(N)\n",
    "        Zq = Integers(q)\n",
    "        g = Zq(2) # set generator as 2\n",
    "        \n",
    "        # knowledge\n",
    "        x = randint(1, q)\n",
    "        # such that\n",
    "        y = g^x\n",
    "        \n",
    "        prover = ZKP_Prover(Zq, g, q, N)\n",
    "        verifier = ZKP_Verifier(Zq, g, q, N)\n",
    "        \n",
    "        if prover.honest:\n",
    "            prover.x = x\n",
    "        else:\n",
    "            prover.x = randint(1, q)\n",
    "        \n",
    "        r = prover.Commit()\n",
    "        c = verifier.Challenge()\n",
    "        s = prover.Prove(c)\n",
    "        print(\"Verification: \", verifier.Verify(y, r, s))\n",
    "        print(\"y, r, c, s : \", y, r, c, s)"
   ]
  },
  {
   "cell_type": "code",
   "execution_count": 15,
   "id": "b67265bf",
   "metadata": {},
   "outputs": [
    {
     "name": "stdout",
     "output_type": "stream",
     "text": [
      "Verification:  True\n",
      "y, r, c, s :  65727815076308781461996508642846279542536176173736994405498109742443524686354787905470001198003026441374998500502389078197220430922568162069211537915287294295813029231288569186932753693307751666455739943337446209592543371096880209521706377768259816332792707272356587205606223067173714931853578203716285769767 59209074754123849447962134368102243606209313989852760515221207284449746116242348764598684637127168007163180248339289715728288271097686163908138866718206949017445282501590622830362277704790398353004652355739461784300313490523121293013931628964422060410067895278927755311014167147437499830007701921112721538306 12419673852056196357523330418607935227250003660575492380347806323175971800343991279656475136230319390542140932856117634960766175512235218011649806043786837694666703041255740369731524358266282572545547640933654475323312943090757304799820627599839668075816107136414995446732184378986159606259657706493524123366 773162542186540211489708909040159507382693297920445825240902851010887385986065419353193479963534390793521920277922276595088800694911013153532645030937635330762908856803255823203363595869192845418665478106533648880608734285312939799711659223445671330315694276536582532226215240870983517302613448161527905759999420490030812172069475411651113905227407099123717559816252630742987753294352114558968579259826646911029922823346312894525812329097114117624202865854378184363193408321528794870321074150838930727248626246136561035988925732186335538503968963646304584514106907187832403606865456605168725802656793469961837239966\n"
     ]
    }
   ],
   "source": [
    "import time\n",
    "bits = 1024\n",
    "seed = time.time_ns()\n",
    "zkp = ZKP_Protocol(bits, seed)"
   ]
  },
  {
   "cell_type": "code",
   "execution_count": null,
   "id": "4f37b120",
   "metadata": {},
   "outputs": [],
   "source": []
  },
  {
   "cell_type": "code",
   "execution_count": null,
   "id": "d5ee1f8b",
   "metadata": {},
   "outputs": [],
   "source": []
  }
 ],
 "metadata": {
  "kernelspec": {
   "display_name": "SageMath 9.6",
   "language": "sage",
   "name": "sagemath-9.6"
  },
  "language_info": {
   "codemirror_mode": {
    "name": "ipython",
    "version": 3
   },
   "file_extension": ".py",
   "mimetype": "text/x-python",
   "name": "python",
   "nbconvert_exporter": "python",
   "pygments_lexer": "ipython3",
   "version": "3.10.3"
  }
 },
 "nbformat": 4,
 "nbformat_minor": 5
}
