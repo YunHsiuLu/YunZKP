{
 "cells": [
  {
   "cell_type": "code",
   "execution_count": 18,
   "id": "14a7a363",
   "metadata": {},
   "outputs": [
    {
     "data": {
      "text/plain": [
       "'\\nclass RSA_test:\\n    def __init__(self):\\n        p1 = 2147483647 # 2^31 - 1\\n        p2 = 2305843009213693951 # 2^61 - 1\\n        n = 4951760154835678088235319297 # p1*p2\\n        phi = 4951760152529835076874141700 # (p1-1)*(p2-1)\\n        \\n        self.e = 1850567623300615966303954877\\n        self.d = 4460824882019967172592779313\\n    def gen_key(self):\\n        return (self.e, self.d)\\n'"
      ]
     },
     "execution_count": 18,
     "metadata": {},
     "output_type": "execute_result"
    }
   ],
   "source": [
    "# e = 65536\n",
    "# e*d % phi(n) = 1\n",
    "# e*e^(phi(phi(n))-1) = 1 % phi(n)\n",
    "# d = e^(phi(phi(n))-1)\n",
    "# ref: https://doc.sagemath.org/html/en/thematic_tutorials/numtheory_rsa.html\n",
    "class RSA:\n",
    "    def __init__(self, N):\n",
    "        #p1 = random_prime(N)\n",
    "        #p2 = random_prime(N)\n",
    "        p1 = random_prime(N,1,N/2)\n",
    "        p2 = random_prime(N,1,N/2)\n",
    "        n = p1*p2\n",
    "        phi = (p1-1)*(p2-1)\n",
    "        e = Integers().random_element(phi)\n",
    "        while gcd(e, phi)!=1:\n",
    "            e = Integers().random_element(phi)\n",
    "        self.e = e\n",
    "        bezout = xgcd(e,phi)\n",
    "        d = Integer(mod(bezout[1], phi))\n",
    "        self.d = d\n",
    "    def gen_key(self):\n",
    "        return (self.e, self.d)\n",
    "\"\"\"\n",
    "class RSA_test:\n",
    "    def __init__(self):\n",
    "        p1 = 2147483647 # 2^31 - 1\n",
    "        p2 = 2305843009213693951 # 2^61 - 1\n",
    "        n = 4951760154835678088235319297 # p1*p2\n",
    "        phi = 4951760152529835076874141700 # (p1-1)*(p2-1)\n",
    "        \n",
    "        self.e = 1850567623300615966303954877\n",
    "        self.d = 4460824882019967172592779313\n",
    "    def gen_key(self):\n",
    "        return (self.e, self.d)\n",
    "\"\"\""
   ]
  },
  {
   "cell_type": "code",
   "execution_count": 19,
   "id": "03bd2237",
   "metadata": {},
   "outputs": [],
   "source": [
    "# for simple case, let H(m) = m\n",
    "def H(m):\n",
    "    return m"
   ]
  },
  {
   "cell_type": "code",
   "execution_count": 20,
   "id": "a8d74246",
   "metadata": {},
   "outputs": [],
   "source": [
    "# To realize DLP-based ch, I have to add a RSA encrypt (p,q)\n",
    "# ref: Identity-Based Chameleon Hash and Applications\n",
    "# G. Ateniese\n",
    "class chameleon_hash:\n",
    "    def __init__(self, Zq, q, N):\n",
    "        self.Zq = Zq\n",
    "        self.q = q\n",
    "        self.N = N\n",
    "    def Gen(self):\n",
    "        rsa = RSA(self.N)\n",
    "        e, t = rsa.gen_key()\n",
    "        I =  self.Zq(randint(1, self.q))\n",
    "        pk = [I, e]\n",
    "        rho = self.Zq(randint(1, self.q))\n",
    "        return (pk, rho, t)\n",
    "    \n",
    "    def CH(self, pk, m, rho):\n",
    "        return pk[0]^H(m)*rho^pk[1]\n",
    "    \n",
    "    def UF(self, pk, t, m, rho, m_):\n",
    "        B = pk[0]^t\n",
    "        rho_ = rho*B^(H(m) - H(m_))\n",
    "        return rho_"
   ]
  },
  {
   "cell_type": "code",
   "execution_count": 21,
   "id": "d7cd19ac",
   "metadata": {},
   "outputs": [],
   "source": [
    "class signature_oracle:\n",
    "    def __init__(self, g, q, N):\n",
    "        self.g = g\n",
    "        self.sk = randint(1, N)\n",
    "    def Sign(self, m):\n",
    "        return (m, self.g^self.sk)\n",
    "    def Verify(self, m, sigma):\n",
    "        return (sigma==self.Sign(m))"
   ]
  },
  {
   "cell_type": "code",
   "execution_count": 22,
   "id": "82679fd5",
   "metadata": {},
   "outputs": [],
   "source": [
    "# has secret x\n",
    "class Prover:\n",
    "    def __init__(self, g, q, N):\n",
    "        self.honest = True\n",
    "        self.g = g\n",
    "        self.q = q\n",
    "        self.k = randint(1, q)\n",
    "        self.x = -99999\n",
    "        \n",
    "    def Setup(self, S, p_set):\n",
    "        r_ = self.g^self.k\n",
    "        pk = p_set[0]\n",
    "        CHF = p_set[1]\n",
    "        rho = p_set[2]\n",
    "        r = CHF.CH(pk, r_, rho)\n",
    "        return (r_, r, S.Sign(r))\n",
    "    \n",
    "    def Prove(self, S, r, y):\n",
    "        c = randint(1,self.q)\n",
    "        s = self.k+c*self.x\n",
    "        return (c, s, S.Sign(s))"
   ]
  },
  {
   "cell_type": "code",
   "execution_count": 23,
   "id": "51523fda",
   "metadata": {},
   "outputs": [],
   "source": [
    "class Verifier:\n",
    "    def __init__(self, Zq, g, q, N):\n",
    "        self.g = g\n",
    "        self.t = -99999\n",
    "        self.CHF = chameleon_hash(Zq, q, N)\n",
    "        \n",
    "    def KeyGen(self):\n",
    "        return self.CHF.Gen()\n",
    "\n",
    "    def Verify(self, S, pk, rho, y, r, c, s, sigma_r, sigma_s):\n",
    "        v1 = S.Verify(r, sigma_r)\n",
    "        v2 = S.Verify(s, sigma_s)\n",
    "        rh_ = self.g^s * y^(-c)\n",
    "        rh = self.CHF.CH(pk, rh_, rho)\n",
    "        v3 = (r==rh)\n",
    "        return (v1 and v2 and v3)"
   ]
  },
  {
   "cell_type": "code",
   "execution_count": 24,
   "id": "7183c51f",
   "metadata": {},
   "outputs": [],
   "source": [
    "import time\n",
    "class NTNIZKP_Protocol:\n",
    "    def __init__(self, bits, seed):\n",
    "        set_random_seed(seed)\n",
    "        current_randstate().set_seed_gp()\n",
    "        \n",
    "        N = 2^bits\n",
    "        q = random_prime(N)\n",
    "        Zq = Integers(q)\n",
    "        g = Zq(2)\n",
    "        \n",
    "        # knowledge\n",
    "        x = randint(1, q)\n",
    "        # such that\n",
    "        y = g^x\n",
    "        \n",
    "        prover = Prover(g, q, N)\n",
    "        verifier = Verifier(Zq, g, q, N)\n",
    "        S = signature_oracle(g, q, N)\n",
    "        \n",
    "        if prover.honest:\n",
    "            prover.x = x\n",
    "        else:\n",
    "            prover.x = randint(1, q)\n",
    "        \n",
    "        start = time.time()\n",
    "        pk, rho, verifier.t = verifier.KeyGen()\n",
    "        end = time.time()\n",
    "        self.keygen_time = end - start\n",
    "        \n",
    "        p_set = [pk, verifier.CHF, rho]\n",
    "        \n",
    "        start = time.time()\n",
    "        r_, r, sigma_r = prover.Setup(S, p_set)\n",
    "        end = time.time()\n",
    "        self.setup_time = end - start\n",
    "        \n",
    "        start = time.time()\n",
    "        c, s, sigma_s = prover.Prove(S, r, y)\n",
    "        end = time.time()\n",
    "        self.prove_time = end-start\n",
    "        \n",
    "        start = time.time()\n",
    "        self.result = verifier.Verify(S, pk, rho, y, r, c, s, sigma_r, sigma_s)\n",
    "        end = time.time()\n",
    "        self.verify_time = end - start"
   ]
  },
  {
   "cell_type": "code",
   "execution_count": 27,
   "id": "b970b558",
   "metadata": {},
   "outputs": [
    {
     "name": "stdout",
     "output_type": "stream",
     "text": [
      "iteration : 20 / 20\n",
      "-----------------------------\n",
      "Total keygen time / Average keygen time       : 1025163167.48ms / 51258158.37ms\n",
      "Total setup time / Average setup time         : 396719.93ms / 19836.00ms\n",
      "Total prove time / Average prove time         : 83060.74ms / 4153.04ms\n",
      "Total verify time / Average verify time       : 647312.88ms / 32365.64ms\n"
     ]
    }
   ],
   "source": [
    "bits = 2048\n",
    "ctr = 0\n",
    "iteration = 20\n",
    "total_keygen_time = 0\n",
    "total_setup_time = 0\n",
    "total_prove_time = 0\n",
    "total_verify_time = 0\n",
    "\n",
    "while ctr < iteration:\n",
    "    seed = time.time_ns()\n",
    "    print(\"iteration : %d / %d\" % (ctr+1, iteration), end=\"\\r\")\n",
    "    \n",
    "    ntnizkp = NTNIZKP_Protocol(bits, seed)\n",
    "\n",
    "    if ntnizkp.result:\n",
    "        ctr += 1\n",
    "        total_keygen_time += ntnizkp.keygen_time*10^6\n",
    "        total_setup_time += ntnizkp.setup_time*10^6\n",
    "        total_prove_time += ntnizkp.prove_time*10^6\n",
    "        total_verify_time += ntnizkp.verify_time*10^6\n",
    "    else:\n",
    "        pass\n",
    "\n",
    "print(\"\\n-----------------------------\")\n",
    "print(\"Total keygen time / Average keygen time       : %.2fus / %.2fus\" % (total_keygen_time, total_keygen_time/iteration))\n",
    "print(\"Total setup time / Average setup time         : %.2fus / %.2fus\" % (total_setup_time, total_setup_time/iteration))\n",
    "print(\"Total prove time / Average prove time         : %.2fus / %.2fus\" % (total_prove_time, total_prove_time/iteration))\n",
    "print(\"Total verify time / Average verify time       : %.2fus / %.2fus\" % (total_verify_time, total_verify_time/iteration))"
   ]
  },
  {
   "cell_type": "code",
   "execution_count": null,
   "id": "33ce8ac7",
   "metadata": {},
   "outputs": [],
   "source": []
  },
  {
   "cell_type": "code",
   "execution_count": null,
   "id": "78dfc7a5",
   "metadata": {},
   "outputs": [],
   "source": []
  }
 ],
 "metadata": {
  "kernelspec": {
   "display_name": "SageMath 9.6",
   "language": "sage",
   "name": "sagemath-9.6"
  },
  "language_info": {
   "codemirror_mode": {
    "name": "ipython",
    "version": 3
   },
   "file_extension": ".py",
   "mimetype": "text/x-python",
   "name": "python",
   "nbconvert_exporter": "python",
   "pygments_lexer": "ipython3",
   "version": "3.10.3"
  }
 },
 "nbformat": 4,
 "nbformat_minor": 5
}
