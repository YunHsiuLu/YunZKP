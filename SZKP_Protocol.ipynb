{
 "cells": [
  {
   "cell_type": "code",
   "execution_count": 15,
   "id": "d7cd19ac",
   "metadata": {},
   "outputs": [],
   "source": [
    "class signature_oracle:\n",
    "    def __init__(self, g, q, N):\n",
    "        self.g = g\n",
    "        self.sk = randint(1, N)\n",
    "    def Sign(self, m):\n",
    "        return (m, self.g^self.sk)\n",
    "    def Verify(self, m, sigma):\n",
    "        return (sigma==self.Sign(m))"
   ]
  },
  {
   "cell_type": "code",
   "execution_count": 16,
   "id": "82679fd5",
   "metadata": {},
   "outputs": [],
   "source": [
    "# has secret x\n",
    "class Prover:\n",
    "    def __init__(self, g, q, N):\n",
    "        self.honest = True\n",
    "        self.g = g\n",
    "        self.q = q\n",
    "        self.k = randint(1, q)\n",
    "        self.x = -99999\n",
    "        \n",
    "    def Commit(self, S):\n",
    "        r = self.g^self.k\n",
    "        return (r, S.Sign(r))\n",
    "    def Prove(self, S, c):\n",
    "        s = self.k+c*self.x\n",
    "        return (s, S.Sign(s))"
   ]
  },
  {
   "cell_type": "code",
   "execution_count": 17,
   "id": "51523fda",
   "metadata": {},
   "outputs": [],
   "source": [
    "class Verifier:\n",
    "    def __init__(self, g, q, N):\n",
    "        self.g = g\n",
    "        self.q = q\n",
    "        \n",
    "    def Challenge(self):\n",
    "        c = randint(1,self.q)\n",
    "        return c\n",
    "    \n",
    "    def Verify(self, S, y, r, c, s, sigma_r, sigma_s):\n",
    "        v1 = S.Verify(r, sigma_r)\n",
    "        v2 = S.Verify(s, sigma_s)\n",
    "        v3 = (r==self.g^s * y^(-c))\n",
    "        return (v1 and v2 and v3)"
   ]
  },
  {
   "cell_type": "code",
   "execution_count": 18,
   "id": "7183c51f",
   "metadata": {},
   "outputs": [],
   "source": [
    "import time\n",
    "class SZKP_Protocol:\n",
    "    def __init__(self, bits, seed):\n",
    "        start = 0\n",
    "        end = 0\n",
    "        \n",
    "        set_random_seed(seed)\n",
    "        current_randstate().set_seed_gp()\n",
    "        \n",
    "        N = 2^bits\n",
    "        q = random_prime(N)\n",
    "        Zq = Integers(q)\n",
    "        g = Zq(2)\n",
    "        \n",
    "        # knowledge\n",
    "        x = randint(1, q)\n",
    "        # such that\n",
    "        y = g^x\n",
    "        \n",
    "        prover = Prover(g, q, N)\n",
    "        verifier = Verifier(g, q, N)\n",
    "        S = signature_oracle(g, q, N)\n",
    "        \n",
    "        if prover.honest:\n",
    "            prover.x = x\n",
    "        else:\n",
    "            prover.x = randint(1, q)\n",
    "\n",
    "        start = time.time()\n",
    "        r, sigma_r = prover.Commit(S)\n",
    "        end = time.time()\n",
    "        self.commit_time = end-start\n",
    "        \n",
    "        start = time.time()\n",
    "        c = verifier.Challenge()\n",
    "        end = time.time()\n",
    "        self.challenge_time = end-start\n",
    "        \n",
    "        start = time.time()\n",
    "        s, sigma_s = prover.Prove(S, c)\n",
    "        end = time.time()\n",
    "        self.prove_time = end-start\n",
    "        \n",
    "        start = time.time()\n",
    "        self.result = verifier.Verify(S, y, r, c, s, sigma_r, sigma_s)\n",
    "        end = time.time()\n",
    "        self.verify_time = end-start"
   ]
  },
  {
   "cell_type": "code",
   "execution_count": 21,
   "id": "b970b558",
   "metadata": {},
   "outputs": [
    {
     "name": "stdout",
     "output_type": "stream",
     "text": [
      "iteration : 20 / 20\n",
      "-----------------------------\n",
      "Total commit time / Average commit time       : 158505.68ms / 7925.28ms\n",
      "Total challenge time / Average challenge time : 396.01ms / 19.80ms\n",
      "Total prove time / Average prove time         : 77823.64ms / 3891.18ms\n",
      "Total verify time / Average verify time       : 387604.24ms / 19380.21ms\n"
     ]
    }
   ],
   "source": [
    "bits = 2048\n",
    "ctr = 0\n",
    "iteration = 20\n",
    "total_commit_time = 0\n",
    "total_challenge_time = 0\n",
    "total_prove_time = 0\n",
    "total_verify_time = 0\n",
    "\n",
    "while ctr < iteration:\n",
    "    seed = time.time_ns()\n",
    "    print(\"iteration : %d / %d\" % (ctr+1, iteration), end=\"\\r\")\n",
    "\n",
    "    szkp = SZKP_Protocol(bits, seed)\n",
    "    if szkp.result:\n",
    "        ctr += 1\n",
    "        total_commit_time += szkp.commit_time*10^6\n",
    "        total_challenge_time += szkp.challenge_time*10^6\n",
    "        total_prove_time += szkp.prove_time*10^6\n",
    "        total_verify_time += szkp.verify_time*10^6\n",
    "    else:\n",
    "        pass\n",
    "\n",
    "print(\"\\n-----------------------------\")\n",
    "print(\"Total commit time / Average commit time       : %.2fus / %.2fus\" % (total_commit_time, total_commit_time/iteration))\n",
    "print(\"Total challenge time / Average challenge time : %.2fus / %.2fus\" % (total_challenge_time, total_challenge_time/iteration))\n",
    "print(\"Total prove time / Average prove time         : %.2fus / %.2fus\" % (total_prove_time, total_prove_time/iteration))\n",
    "print(\"Total verify time / Average verify time       : %.2fus / %.2fus\" % (total_verify_time, total_verify_time/iteration))\n"
   ]
  },
  {
   "cell_type": "code",
   "execution_count": null,
   "id": "2747fc9a",
   "metadata": {},
   "outputs": [],
   "source": []
  },
  {
   "cell_type": "code",
   "execution_count": null,
   "id": "3b880116",
   "metadata": {},
   "outputs": [],
   "source": []
  }
 ],
 "metadata": {
  "kernelspec": {
   "display_name": "SageMath 9.6",
   "language": "sage",
   "name": "sagemath-9.6"
  },
  "language_info": {
   "codemirror_mode": {
    "name": "ipython",
    "version": 3
   },
   "file_extension": ".py",
   "mimetype": "text/x-python",
   "name": "python",
   "nbconvert_exporter": "python",
   "pygments_lexer": "ipython3",
   "version": "3.10.3"
  }
 },
 "nbformat": 4,
 "nbformat_minor": 5
}
