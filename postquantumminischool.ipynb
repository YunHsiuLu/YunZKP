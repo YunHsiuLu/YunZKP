{
 "cells": [
  {
   "cell_type": "code",
   "execution_count": 1,
   "id": "31f6f78f",
   "metadata": {},
   "outputs": [],
   "source": [
    "Zx.<x> = ZZ[]\n",
    "W, N, Q = 5, 7, 256"
   ]
  },
  {
   "cell_type": "code",
   "execution_count": 2,
   "id": "f4cac0cd",
   "metadata": {},
   "outputs": [],
   "source": [
    "def convolution(f,g):\n",
    "    return (f*g) % (x^N-1)"
   ]
  },
  {
   "cell_type": "code",
   "execution_count": 3,
   "id": "c0364c1b",
   "metadata": {},
   "outputs": [],
   "source": [
    "def randomsecret():\n",
    "    f = list(randrange(3)-1 for j in range(N))\n",
    "    return Zx(f)"
   ]
  },
  {
   "cell_type": "code",
   "execution_count": 4,
   "id": "2e526b38",
   "metadata": {},
   "outputs": [
    {
     "data": {
      "text/plain": [
       "-x^6 - x^4 + x^3 + x - 1"
      ]
     },
     "execution_count": 4,
     "metadata": {},
     "output_type": "execute_result"
    }
   ],
   "source": [
    "f = randomsecret()\n",
    "f"
   ]
  },
  {
   "cell_type": "code",
   "execution_count": 5,
   "id": "5499f552",
   "metadata": {},
   "outputs": [],
   "source": [
    "def balancedmod(f, Q):\n",
    "    g = list(((f[i]+Q//2) % Q)-Q//2 for i in range(N))\n",
    "    return Zx(g)"
   ]
  },
  {
   "cell_type": "code",
   "execution_count": 6,
   "id": "785f4357",
   "metadata": {},
   "outputs": [
    {
     "data": {
      "text/plain": [
       "41*x - 86"
      ]
     },
     "execution_count": 6,
     "metadata": {},
     "output_type": "execute_result"
    }
   ],
   "source": [
    "u = 314-159*x\n",
    "balancedmod(u, 200)"
   ]
  },
  {
   "cell_type": "code",
   "execution_count": 7,
   "id": "9a5f81de",
   "metadata": {},
   "outputs": [],
   "source": [
    "def randomweight():\n",
    "    R = randrange\n",
    "    assert W <= N\n",
    "    s = N*[0]\n",
    "    for j in range(W):\n",
    "        while True:\n",
    "            r = R(N)\n",
    "            if not s[r]:\n",
    "                break\n",
    "        s[r] = 1-2*R(2)\n",
    "    return Zx(s)\n",
    "                "
   ]
  },
  {
   "cell_type": "code",
   "execution_count": 8,
   "id": "8c483366",
   "metadata": {},
   "outputs": [
    {
     "data": {
      "text/plain": [
       "-x^6 - x^5 - x^3 + x^2 - x"
      ]
     },
     "execution_count": 8,
     "metadata": {},
     "output_type": "execute_result"
    }
   ],
   "source": [
    "randomweight()"
   ]
  },
  {
   "cell_type": "code",
   "execution_count": 9,
   "id": "6444d2d6",
   "metadata": {},
   "outputs": [],
   "source": [
    "def invertmodprime(f, p):\n",
    "    Fp = Integers(p)\n",
    "    Fpx = Zx.change_ring(Fp)\n",
    "    T = Fpx.quotient(x^N-1)\n",
    "    return Zx(lift(1/T(f)))\n",
    "def invertmodpowerof2(f, Q):\n",
    "    assert Q.is_power_of(2)\n",
    "    g = invertmodprime(f,2)\n",
    "    M = balancedmod\n",
    "    conv = convolution\n",
    "    while True:\n",
    "        r = M(conv(g,f), Q)\n",
    "        if r == 1:\n",
    "            return g\n",
    "        g = M(conv(g, 2-r), Q)\n",
    "        "
   ]
  },
  {
   "cell_type": "code",
   "execution_count": 10,
   "id": "48b1c15e",
   "metadata": {},
   "outputs": [
    {
     "data": {
      "text/plain": [
       "47*x^6 - 36*x^5 + 126*x^4 - 58*x^3 - 54*x^2 + 61*x - 87"
      ]
     },
     "execution_count": 10,
     "metadata": {},
     "output_type": "execute_result"
    }
   ],
   "source": [
    "g = invertmodpowerof2(f, Q)\n",
    "g"
   ]
  },
  {
   "cell_type": "code",
   "execution_count": 11,
   "id": "e532683e",
   "metadata": {},
   "outputs": [
    {
     "data": {
      "text/plain": [
       "1"
      ]
     },
     "execution_count": 11,
     "metadata": {},
     "output_type": "execute_result"
    }
   ],
   "source": [
    "balancedmod(convolution(f,g), Q)"
   ]
  },
  {
   "cell_type": "code",
   "execution_count": 18,
   "id": "c5fe1b85",
   "metadata": {},
   "outputs": [],
   "source": [
    "def keypair():\n",
    "    while True:\n",
    "        try:\n",
    "            a = randomweight()\n",
    "            a3 = invertmodprime(a, 3)\n",
    "            aQ = invertmodpowerof2(a, Q)\n",
    "            e = randomsecret()\n",
    "            G = balancedmod(3 * convolution(e, aQ), Q)\n",
    "            GQ = invertmodpowerof2(G, Q)\n",
    "            secretkey = a,a3,GQ\n",
    "            return G,secretkey\n",
    "        except:\n",
    "            pass"
   ]
  },
  {
   "cell_type": "code",
   "execution_count": 36,
   "id": "c532e667",
   "metadata": {},
   "outputs": [],
   "source": [
    "def encrypt(bd,G):\n",
    "    b,d = bd\n",
    "    bG = convolution(b,G)\n",
    "    C = balancedmod(bG+d, Q)\n",
    "    return C\n",
    "def decrypt(C, secretkey):\n",
    "    M = balancedmod\n",
    "    conv = convolution\n",
    "    a,a3,GQ = secretkey\n",
    "    u = M(conv(C,a), Q)\n",
    "    d = M(conv(u,a3), 3)\n",
    "    b = M(conv(C-d,GQ), Q)\n",
    "    return b,d"
   ]
  },
  {
   "cell_type": "code",
   "execution_count": 34,
   "id": "ed174d41",
   "metadata": {},
   "outputs": [
    {
     "data": {
      "text/plain": [
       "-29*x^6 - 66*x^5 - 19*x^4 + 62*x^3 - 111*x^2 + 36*x - 112"
      ]
     },
     "execution_count": 34,
     "metadata": {},
     "output_type": "execute_result"
    }
   ],
   "source": [
    "G, secretkey = keypair()\n",
    "a,a3,GQ = secretkey\n",
    "b = randomweight()\n",
    "d = randomsecret()\n",
    "C = encrypt((b,d), G)\n",
    "C"
   ]
  },
  {
   "cell_type": "code",
   "execution_count": 39,
   "id": "67e6b41b",
   "metadata": {},
   "outputs": [
    {
     "data": {
      "text/plain": [
       "True"
      ]
     },
     "execution_count": 39,
     "metadata": {},
     "output_type": "execute_result"
    }
   ],
   "source": [
    "#G,a,convolution(a,G),balancedmod(convolution(a,G),Q)\n",
    "#decrypt(C,secretkey)\n",
    "decrypt(C,secretkey) == (b,d)\n",
    "# W, N, Q = 5, 7, 256"
   ]
  },
  {
   "cell_type": "code",
   "execution_count": null,
   "id": "4b56ae4a",
   "metadata": {},
   "outputs": [],
   "source": []
  },
  {
   "cell_type": "code",
   "execution_count": null,
   "id": "453b5058",
   "metadata": {},
   "outputs": [],
   "source": []
  },
  {
   "cell_type": "code",
   "execution_count": null,
   "id": "cd8c4f48",
   "metadata": {},
   "outputs": [],
   "source": []
  }
 ],
 "metadata": {
  "kernelspec": {
   "display_name": "SageMath 9.6",
   "language": "sage",
   "name": "sagemath-9.6"
  },
  "language_info": {
   "codemirror_mode": {
    "name": "ipython",
    "version": 3
   },
   "file_extension": ".py",
   "mimetype": "text/x-python",
   "name": "python",
   "nbconvert_exporter": "python",
   "pygments_lexer": "ipython3",
   "version": "3.10.3"
  }
 },
 "nbformat": 4,
 "nbformat_minor": 5
}
