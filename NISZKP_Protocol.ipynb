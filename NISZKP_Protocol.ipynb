{
 "cells": [
  {
   "cell_type": "code",
   "execution_count": 1,
   "id": "d7cd19ac",
   "metadata": {},
   "outputs": [],
   "source": [
    "class signature_oracle:\n",
    "    def __init__(self, g, q, N):\n",
    "        self.g = g\n",
    "        self.sk = randint(1, N)\n",
    "    def Sign(self, m):\n",
    "        return (m, self.g^self.sk)\n",
    "    def Verify(self, m, sigma):\n",
    "        return (sigma==self.Sign(m))"
   ]
  },
  {
   "cell_type": "code",
   "execution_count": 2,
   "id": "82679fd5",
   "metadata": {},
   "outputs": [],
   "source": [
    "# has secret x\n",
    "class Prover:\n",
    "    def __init__(self, g, q, N):\n",
    "        self.honest = True\n",
    "        self.g = g\n",
    "        self.q = q\n",
    "        self.k = randint(1, q)\n",
    "        self.x = -99999\n",
    "        \n",
    "    def Setup(self, S):\n",
    "        r = self.g^self.k\n",
    "        return (r, S.Sign(r))\n",
    "    \n",
    "    def Prove(self, S, r, y):\n",
    "        c = randint(1,self.q)\n",
    "        s = self.k+c*self.x\n",
    "        return (c, s, S.Sign(s))"
   ]
  },
  {
   "cell_type": "code",
   "execution_count": 3,
   "id": "51523fda",
   "metadata": {},
   "outputs": [],
   "source": [
    "class Verifier:\n",
    "    def __init__(self, g, q, N):\n",
    "        self.g = g\n",
    "\n",
    "    def Verify(self, S, y, r, c, s, sigma_r, sigma_s):\n",
    "        v1 = S.Verify(r, sigma_r)\n",
    "        v2 = S.Verify(s, sigma_s)\n",
    "        v3 = (r==self.g^s * y^(-c))\n",
    "        return (v1 and v2 and v3)"
   ]
  },
  {
   "cell_type": "code",
   "execution_count": 4,
   "id": "7183c51f",
   "metadata": {},
   "outputs": [],
   "source": [
    "import time\n",
    "class NISZKP_Protocol:\n",
    "    def __init__(self, bits, seed):\n",
    "        start = 0\n",
    "        end = 0\n",
    "        \n",
    "        set_random_seed(seed)\n",
    "        current_randstate().set_seed_gp()\n",
    "        \n",
    "        N = 2^bits\n",
    "        q = random_prime(N)\n",
    "        Zq = Integers(q)\n",
    "        g = Zq(2)\n",
    "        \n",
    "        # knowledge\n",
    "        x = randint(1, q)\n",
    "        # such that\n",
    "        y = g^x\n",
    "        \n",
    "        prover = Prover(g, q, N)\n",
    "        verifier = Verifier(g, q, N)\n",
    "        S = signature_oracle(g, q, N)\n",
    "        \n",
    "        if prover.honest:\n",
    "            prover.x = x\n",
    "        else:\n",
    "            prover.x = randint(1, q)\n",
    "\n",
    "        start = time.time()\n",
    "        r, sigma_r = prover.Setup(S)\n",
    "        end = time.time()\n",
    "        self.setup_time = end-start\n",
    "        \n",
    "        start = time.time()\n",
    "        c, s, sigma_s = prover.Prove(S, r, y)\n",
    "        end = time.time()\n",
    "        self.prove_time = end-start\n",
    "        \n",
    "        start = time.time()\n",
    "        self.result = verifier.Verify(S, y, r, c, s, sigma_r, sigma_s)\n",
    "        end = time.time()\n",
    "        self.verify_time = end-start"
   ]
  },
  {
   "cell_type": "code",
   "execution_count": 6,
   "id": "b970b558",
   "metadata": {},
   "outputs": [
    {
     "name": "stdout",
     "output_type": "stream",
     "text": [
      "iteration : 20 / 20\n",
      "-----------------------------\n",
      "Total setup time / Average setup time         : 3505.95us / 175.30us\n",
      "Total prove time / Average prove time         : 2056.60us / 102.83us\n",
      "Total verify time / Average verify time       : 8985.04us / 449.25us\n"
     ]
    }
   ],
   "source": [
    "bits = 512\n",
    "ctr = 0\n",
    "iteration = 20\n",
    "total_setup_time = 0\n",
    "total_prove_time = 0\n",
    "total_verify_time = 0\n",
    "\n",
    "while ctr < iteration:\n",
    "    seed = time.time_ns()\n",
    "    print(\"iteration : %d / %d\" % (ctr+1, iteration), end=\"\\r\")\n",
    "\n",
    "    nizkp = NISZKP_Protocol(bits, seed)\n",
    "    if nizkp.result:\n",
    "        ctr += 1\n",
    "        total_setup_time += nizkp.setup_time*10^6\n",
    "        total_prove_time += nizkp.prove_time*10^6\n",
    "        total_verify_time += nizkp.verify_time*10^6\n",
    "    else:\n",
    "        pass\n",
    "\n",
    "print(\"\\n-----------------------------\")\n",
    "print(\"Total setup time / Average setup time         : %.2fus / %.2fus\" % (total_setup_time, total_setup_time/iteration))\n",
    "print(\"Total prove time / Average prove time         : %.2fus / %.2fus\" % (total_prove_time, total_prove_time/iteration))\n",
    "print(\"Total verify time / Average verify time       : %.2fus / %.2fus\" % (total_verify_time, total_verify_time/iteration))\n"
   ]
  },
  {
   "cell_type": "code",
   "execution_count": null,
   "id": "2747fc9a",
   "metadata": {},
   "outputs": [],
   "source": []
  },
  {
   "cell_type": "code",
   "execution_count": null,
   "id": "3b880116",
   "metadata": {},
   "outputs": [],
   "source": []
  }
 ],
 "metadata": {
  "kernelspec": {
   "display_name": "SageMath 9.6",
   "language": "sage",
   "name": "sagemath-9.6"
  },
  "language_info": {
   "codemirror_mode": {
    "name": "ipython",
    "version": 3
   },
   "file_extension": ".py",
   "mimetype": "text/x-python",
   "name": "python",
   "nbconvert_exporter": "python",
   "pygments_lexer": "ipython3",
   "version": "3.10.3"
  }
 },
 "nbformat": 4,
 "nbformat_minor": 5
}
