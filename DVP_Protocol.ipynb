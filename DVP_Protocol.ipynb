{
 "cells": [
  {
   "cell_type": "code",
   "execution_count": 49,
   "id": "d7cd19ac",
   "metadata": {},
   "outputs": [],
   "source": [
    "class signature_oracle:\n",
    "    def __init__(self, q):\n",
    "        self.q = q\n",
    "    def Sign(self, m, sk):\n",
    "        return (pow(m, sk, self.q))\n",
    "    \n",
    "    def Verify(self, m, sk, s):\n",
    "        return (s==self.Sign(m, sk))"
   ]
  },
  {
   "cell_type": "code",
   "execution_count": 50,
   "id": "c58e2ad9",
   "metadata": {},
   "outputs": [],
   "source": [
    "def Com(w, r):\n",
    "    return (w, r)"
   ]
  },
  {
   "cell_type": "code",
   "execution_count": 51,
   "id": "82679fd5",
   "metadata": {},
   "outputs": [],
   "source": [
    "# has secret x\n",
    "class Prover:\n",
    "    def __init__(self, g, q, N):\n",
    "        self.honest = True\n",
    "        self.g = g\n",
    "        self.q = q\n",
    "        self.k = randint(1, q)\n",
    "        self.x = -99999\n",
    "        self.w = -99999\n",
    "        self.r = -99999\n",
    "    \n",
    "    def Commit(self, v):\n",
    "        self.w = v^self.x\n",
    "        self.r = randint(1, self.q)\n",
    "        return Com(self.w, self.r)\n",
    "    \n",
    "    def Verify(self, v, m, a, b):\n",
    "        t = (pow(m, a, self.q)*pow(self.g, b, self.q)) % self.q\n",
    "        return (v == t)"
   ]
  },
  {
   "cell_type": "code",
   "execution_count": 52,
   "id": "51523fda",
   "metadata": {},
   "outputs": [],
   "source": [
    "class Verifier:\n",
    "    def __init__(self, g, q, N):\n",
    "        self.g = g\n",
    "        self.q = q\n",
    "        self.a = randint(1,self.q)\n",
    "        self.b = randint(1,self.q)\n",
    "        \n",
    "    def Generate(self, m):\n",
    "        v = (pow(m, self.a, self.q)*pow(self.g, self.b, self.q)) % self.q\n",
    "        return v\n",
    "    \n",
    "    def Verify(self, s, yA, c, w, r):\n",
    "        t = (pow(s, self.a, self.q)*pow(yA, self.b, self.q)) % self.q\n",
    "        v1 = (w == t)\n",
    "        v2 = (c == Com(w, r))\n",
    "        return (v1 and v2)"
   ]
  },
  {
   "cell_type": "code",
   "execution_count": 53,
   "id": "7183c51f",
   "metadata": {},
   "outputs": [],
   "source": [
    "import time\n",
    "class DVP_Protocol:\n",
    "    def __init__(self, bits, seed):\n",
    "        start = 0\n",
    "        end = 0\n",
    "        \n",
    "        set_random_seed(seed)\n",
    "        current_randstate().set_seed_gp()\n",
    "        \n",
    "        N = 2^bits\n",
    "        q = random_prime(N)\n",
    "        Zq = Integers(q)\n",
    "        g = Zq(2)\n",
    "        \n",
    "        # message\n",
    "        m = randint(1, q)\n",
    "        # secret key\n",
    "        xA = randint(1, q)\n",
    "        \n",
    "        prover = Prover(g, q, N)\n",
    "        verifier = Verifier(g, q, N)\n",
    "        \n",
    "        if prover.honest:\n",
    "            prover.x = xA\n",
    "        else:\n",
    "            prover.x = randint(1, q)\n",
    "        \n",
    "        yP = g^prover.x\n",
    "        S = signature_oracle(q)\n",
    "        s = S.Sign(m, prover.x)\n",
    "        \n",
    "        #print(\"Generate part......\")\n",
    "        start = time.time()\n",
    "        v = verifier.Generate(m)\n",
    "        end = time.time()\n",
    "        self.generate_time = end-start\n",
    "        \n",
    "        #print(\"Commit part......\")\n",
    "        start = time.time()\n",
    "        c = prover.Commit(v)\n",
    "        end = time.time()\n",
    "        self.commit_time = end-start\n",
    "        \n",
    "        #print(\"Prover verify part......\")\n",
    "        start = time.time()\n",
    "        b1 = prover.Verify(v, m, verifier.a, verifier.b)\n",
    "        end = time.time()\n",
    "        self.pv_time = end-start\n",
    "        #print(b1)\n",
    "        \n",
    "        #print(\"Verifier verify part......\")\n",
    "        start = time.time()\n",
    "        b2 = verifier.Verify(s, yP, c, prover.w, prover.r)\n",
    "        end = time.time()\n",
    "        self.vv_time = end-start\n",
    "        #print(b2)\n",
    "        \n",
    "        self.result = (b1 and b2)"
   ]
  },
  {
   "cell_type": "code",
   "execution_count": 54,
   "id": "b970b558",
   "metadata": {},
   "outputs": [
    {
     "name": "stdout",
     "output_type": "stream",
     "text": [
      "iteration : 20 / 20\n",
      "-----------------------------\n",
      "Total generate time / Average generate time :               157.90ms / 7.90ms\n",
      "Total commit time / Average commit time :                   78.62ms / 3.93ms\n",
      "Total prover verify time / Average prover verify time :     157.58ms / 7.88ms\n",
      "Total verifier verify time / Average verifier verify time : 156.46ms / 7.82ms\n"
     ]
    }
   ],
   "source": [
    "bits = 2048\n",
    "ctr = 0\n",
    "iteration = 20\n",
    "total_generate_time = 0\n",
    "total_commit_time = 0\n",
    "total_pv_time = 0\n",
    "total_vv_time = 0\n",
    "\n",
    "while ctr < iteration:\n",
    "    seed = time.time_ns()\n",
    "    print(\"iteration : %d / %d\" % (ctr+1, iteration), end=\"\\r\")\n",
    "\n",
    "    dvp = DVP_Protocol(bits, seed)\n",
    "    if dvp.result:\n",
    "        ctr += 1\n",
    "        total_generate_time += dvp.generate_time*10^3\n",
    "        total_commit_time += dvp.commit_time*10^3\n",
    "        total_pv_time += dvp.pv_time*10^3\n",
    "        total_vv_time += dvp.vv_time*10^3\n",
    "    else:\n",
    "        pass\n",
    "\n",
    "print(\"\\n-----------------------------\")\n",
    "print(\"Total generate time / Average generate time :               %.2fms / %.2fms\" % (total_generate_time, total_generate_time/iteration))\n",
    "print(\"Total commit time / Average commit time :                   %.2fms / %.2fms\" % (total_commit_time, total_commit_time/iteration))\n",
    "print(\"Total prover verify time / Average prover verify time :     %.2fms / %.2fms\" % (total_pv_time, total_pv_time/iteration))\n",
    "print(\"Total verifier verify time / Average verifier verify time : %.2fms / %.2fms\" % (total_vv_time, total_vv_time/iteration))\n"
   ]
  },
  {
   "cell_type": "code",
   "execution_count": null,
   "id": "2747fc9a",
   "metadata": {},
   "outputs": [],
   "source": []
  },
  {
   "cell_type": "code",
   "execution_count": null,
   "id": "3b880116",
   "metadata": {},
   "outputs": [],
   "source": []
  }
 ],
 "metadata": {
  "kernelspec": {
   "display_name": "SageMath 9.6",
   "language": "sage",
   "name": "sagemath-9.6"
  },
  "language_info": {
   "codemirror_mode": {
    "name": "ipython",
    "version": 3
   },
   "file_extension": ".py",
   "mimetype": "text/x-python",
   "name": "python",
   "nbconvert_exporter": "python",
   "pygments_lexer": "ipython3",
   "version": "3.10.3"
  }
 },
 "nbformat": 4,
 "nbformat_minor": 5
}
