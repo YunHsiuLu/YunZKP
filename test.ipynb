{
 "cells": [
  {
   "cell_type": "code",
   "execution_count": 1,
   "id": "dcb41b2c",
   "metadata": {},
   "outputs": [],
   "source": [
    "# A1 in Rq^{n*k1}; A2 in Rq^{n*k2}\n",
    "# r in Rq^k1; x in Rq^k2\n",
    "# y1 $ D_sigma1^k1; y2 $ D_sigma2^k2\n",
    "# c in Rq\n",
    "# N = 1024 (bits = 10)\n",
    "# q = 2^32\n",
    "# n = 1; k1 = 3; k2 = 3 in Lyu18\n",
    "# sigma = 27000\n",
    "from sage.stats.distributions.discrete_gaussian_polynomial import DiscreteGaussianDistributionPolynomialSampler"
   ]
  },
  {
   "cell_type": "code",
   "execution_count": 12,
   "id": "3df0963c",
   "metadata": {},
   "outputs": [
    {
     "name": "stdout",
     "output_type": "stream",
     "text": [
      "3\n"
     ]
    }
   ],
   "source": [
    "# m: order; n: rows\n",
    "m, n = 16, 1\n",
    "pp = random_prime(2^4)\n",
    "Z2p = IntegerModRing(2*pp)\n",
    "PP.<p> = Z2p[]\n",
    "RP = QuotientRing(PP, PP.ideal(p^m+1), names='p')\n",
    "\n",
    "x_coef = [randint(0, 1) for _ in range(m)]\n",
    "a_coef = [(pp*(2*randint(0, 5)+1)) for _ in range(m)]\n",
    "if (vector(a_coef)*vector(x_coef)) % (2*pp) == 0:\n",
    "    x_coef[0] += 1\n",
    "print(pp)"
   ]
  },
  {
   "cell_type": "code",
   "execution_count": 13,
   "id": "74596643",
   "metadata": {},
   "outputs": [],
   "source": [
    "X = RP(x_coef)\n",
    "A = RP(a_coef)"
   ]
  },
  {
   "cell_type": "code",
   "execution_count": 14,
   "id": "7f07c9d3",
   "metadata": {},
   "outputs": [],
   "source": [
    "y = randint(1, 2*pp)\n",
    "s = DiscreteGaussianDistributionPolynomialSampler(RP, m, 1000)()\n",
    "c = randint(1, 2*pp)"
   ]
  },
  {
   "cell_type": "code",
   "execution_count": 15,
   "id": "826b71e1",
   "metadata": {},
   "outputs": [
    {
     "data": {
      "text/plain": [
       "(1,\n",
       " 3*p^15 + 3*p^14 + 3*p^13 + 3*p^12 + 3*p^11 + 3*p^10 + 3*p^9 + 3*p^8 + 3*p^7 + 3*p^6 + 3*p^5 + 3*p^4 + 3*p^3 + 3*p^2 + 3*p + 3,\n",
       " 5*p^15 + p^14 + 3*p^13 + 3*p^12 + 3*p^11 + 3*p^10 + 3*p^9 + 3*p^8 + 5*p^7 + 4*p^6 + 3*p^5 + 2*p^4 + 4*p + 1,\n",
       " 3,\n",
       " 3)"
      ]
     },
     "execution_count": 15,
     "metadata": {},
     "output_type": "execute_result"
    }
   ],
   "source": [
    "y, A, s, c, pp"
   ]
  },
  {
   "cell_type": "code",
   "execution_count": 16,
   "id": "e52f547d",
   "metadata": {},
   "outputs": [],
   "source": [
    "h = y+A*s+pp*c"
   ]
  },
  {
   "cell_type": "code",
   "execution_count": 17,
   "id": "6b4a9c74",
   "metadata": {},
   "outputs": [
    {
     "data": {
      "text/plain": [
       "3*p^15 + 3*p^14 + 3*p^13 + 3*p^12 + 3*p^11 + 3*p^10 + 3*p^9 + 3*p^8 + 3*p^7 + 3*p^6 + 3*p^5 + 3*p^4 + 3*p^3 + 3*p^2 + 3*p + 1"
      ]
     },
     "execution_count": 17,
     "metadata": {},
     "output_type": "execute_result"
    }
   ],
   "source": [
    "h"
   ]
  },
  {
   "cell_type": "code",
   "execution_count": 18,
   "id": "0cbd4173",
   "metadata": {},
   "outputs": [],
   "source": [
    "k = DiscreteGaussianDistributionPolynomialSampler(RP, m, 1000)()\n",
    "c_ = randint(1, 2*pp)\n",
    "y_ = h + A*k\n",
    "b = randint(0,1)\n",
    "s_ = -k + (-1)^b*X*c_"
   ]
  },
  {
   "cell_type": "code",
   "execution_count": 21,
   "id": "0d69716f",
   "metadata": {},
   "outputs": [
    {
     "data": {
      "text/plain": [
       "True"
      ]
     },
     "execution_count": 21,
     "metadata": {},
     "output_type": "execute_result"
    }
   ],
   "source": [
    "y_+A*s_+pp*c_ == h"
   ]
  },
  {
   "cell_type": "code",
   "execution_count": 25,
   "id": "07be04b1",
   "metadata": {},
   "outputs": [
    {
     "data": {
      "text/plain": [
       "<class 'sage.modules.vector_integer_dense.Vector_integer_dense'>"
      ]
     },
     "execution_count": 25,
     "metadata": {},
     "output_type": "execute_result"
    }
   ],
   "source": [
    "type(matrix([[2,1], [-1,3]])*vector([1, 5]))"
   ]
  },
  {
   "cell_type": "code",
   "execution_count": null,
   "id": "72f1da27",
   "metadata": {},
   "outputs": [],
   "source": []
  }
 ],
 "metadata": {
  "kernelspec": {
   "display_name": "SageMath 9.6",
   "language": "sage",
   "name": "sagemath-9.6"
  },
  "language_info": {
   "codemirror_mode": {
    "name": "ipython",
    "version": 3
   },
   "file_extension": ".py",
   "mimetype": "text/x-python",
   "name": "python",
   "nbconvert_exporter": "python",
   "pygments_lexer": "ipython3",
   "version": "3.10.3"
  }
 },
 "nbformat": 4,
 "nbformat_minor": 5
}
